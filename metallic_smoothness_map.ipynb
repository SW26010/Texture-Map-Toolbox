{
  "nbformat": 4,
  "nbformat_minor": 0,
  "metadata": {
    "colab": {
      "provenance": [],
      "authorship_tag": "ABX9TyOfBW7tD+txDa110DGcgJFL",
      "include_colab_link": true
    },
    "kernelspec": {
      "name": "python3",
      "display_name": "Python 3"
    },
    "language_info": {
      "name": "python"
    }
  },
  "cells": [
    {
      "cell_type": "markdown",
      "metadata": {
        "id": "view-in-github",
        "colab_type": "text"
      },
      "source": [
        "<a href=\"https://colab.research.google.com/github/SW26010/Texture-Map-Toolbox/blob/main/metallic_smoothness_map.ipynb\" target=\"_parent\"><img src=\"https://colab.research.google.com/assets/colab-badge.svg\" alt=\"Open In Colab\"/></a>"
      ]
    },
    {
      "cell_type": "code",
      "source": [
        "import numpy as np\n",
        "from PIL import Image\n",
        "\n",
        "# --- 用户预设参数 ---\n",
        "\n",
        "# 1. 定义输入和输出文件路径\n",
        "input_image_path = '/content/MobiusBracelet-color.png' # 请替换为您的蒙版图片路径 (确保它有Alpha通道)\n",
        "ms_output_path = 'metallic_smoothness_map.png' # 金属度/光滑度贴图的保存路径\n",
        "color_output_path = 'color_map.png' # 颜色贴图的保存路径\n",
        "\n",
        "# 2. 为R, G, B三个通道代表的材质设定属性\n",
        "# 数值范围: 0.0 - 1.0\n",
        "# R通道代表金缮\n",
        "mat_r_metallic = 1.0\n",
        "mat_r_smoothness = 0.445\n",
        "mat_r_color_hex = '#D69687FF'\n",
        "\n",
        "# G通道代表陶瓷\n",
        "mat_g_metallic = 0.0\n",
        "mat_g_smoothness = 1.0\n",
        "mat_g_color_hex = '#FBFFFCFF'\n",
        "\n",
        "# B通道代表黑锆金\n",
        "mat_b_metallic = 0.0\n",
        "mat_b_smoothness = 0.727\n",
        "mat_b_color_hex = '#393938FF'\n",
        "\n",
        "# 3. 判定阈值 (0-255)\n",
        "threshold = 127\n",
        "\n",
        "# --- 代码实现 ---\n",
        "\n",
        "# A. 转换金属度/光滑度值为0-255整数\n",
        "m_r_255 = int(mat_r_metallic * 255)\n",
        "s_r_255 = int(mat_r_smoothness * 255)\n",
        "m_g_255 = int(mat_g_metallic * 255)\n",
        "s_g_255 = int(mat_g_smoothness * 255)\n",
        "m_b_255 = int(mat_b_metallic * 255)\n",
        "s_b_255 = int(mat_b_smoothness * 255)\n",
        "\n",
        "# B. 解析十六进制颜色值为RGBA元组 (0-255)\n",
        "def hex_to_rgba(hex_color: str):\n",
        "    \"\"\"将#RRGGBBAA格式的字符串转换为(R, G, B, A)元组\"\"\"\n",
        "    hex_color = hex_color.lstrip('#')\n",
        "    return tuple(int(hex_color[i:i+2], 16) for i in (0, 2, 4, 6))\n",
        "\n",
        "color_r_rgba = hex_to_rgba(mat_r_color_hex)\n",
        "color_g_rgba = hex_to_rgba(mat_g_color_hex)\n",
        "color_b_rgba = hex_to_rgba(mat_b_color_hex)\n",
        "\n",
        "\n",
        "# C. 读取输入图片并转换为NumPy数组\n",
        "try:\n",
        "    # **修改点**: 将 .convert('RGB') 改为 .convert('RGBA') 以读取Alpha通道\n",
        "    input_image = Image.open(input_image_path).convert('RGBA')\n",
        "except FileNotFoundError:\n",
        "    print(f\"错误：找不到输入文件 '{input_image_path}'。请检查路径。\")\n",
        "    raise\n",
        "input_array = np.array(input_image)\n",
        "\n",
        "# 检查输入图片是否确实有Alpha通道\n",
        "if input_array.shape[2] != 4:\n",
        "    raise ValueError(\"错误：输入图片不包含Alpha通道。请提供带有透明度信息的图片。\")\n",
        "\n",
        "\n",
        "# D. 创建两个输出数组 (金属度/光滑度 + 颜色)\n",
        "shape = (input_array.shape[0], input_array.shape[1], 4)\n",
        "ms_output_array = np.zeros(shape, dtype=np.uint8)\n",
        "color_output_array = np.zeros(shape, dtype=np.uint8)\n",
        "\n",
        "\n",
        "# --- 核心处理逻辑 (生成蒙版并应用) ---\n",
        "\n",
        "# 1. 计算出每个材质的蒙版区域\n",
        "mask_r = input_array[:, :, 0] > threshold\n",
        "mask_g = input_array[:, :, 1] > threshold\n",
        "mask_b = input_array[:, :, 2] > threshold\n",
        "\n",
        "# 2. 应用于金属度/光滑度贴图 (R/G通道)\n",
        "ms_output_array[mask_r, 0] = m_r_255\n",
        "ms_output_array[mask_r, 1] = s_r_255\n",
        "ms_output_array[mask_g, 0] = m_g_255\n",
        "ms_output_array[mask_g, 1] = s_g_255\n",
        "ms_output_array[mask_b, 0] = m_b_255\n",
        "ms_output_array[mask_b, 1] = s_b_255\n",
        "\n",
        "# 3. 应用于颜色贴图 (RGB通道)\n",
        "color_output_array[mask_r] = color_r_rgba\n",
        "color_output_array[mask_g] = color_g_rgba\n",
        "color_output_array[mask_b] = color_b_rgba\n",
        "\n",
        "\n",
        "# --- 最终处理Alpha通道 ---\n",
        "\n",
        "# **修改点**: 直接从输入数组复制Alpha通道到两个输出数组\n",
        "source_alpha_channel = input_array[:, :, 3]\n",
        "ms_output_array[:, :, 3] = source_alpha_channel\n",
        "color_output_array[:, :, 3] = source_alpha_channel\n",
        "\n",
        "\n",
        "# --- 保存输出文件 ---\n",
        "\n",
        "# 1. 保存金属度/光滑度贴图\n",
        "ms_output_image = Image.fromarray(ms_output_array)\n",
        "ms_output_image.save(ms_output_path)\n",
        "print(f\"成功生成金属度/光滑度贴图，已保存至: {ms_output_path}\")\n",
        "\n",
        "# 2. 保存颜色贴图\n",
        "color_output_image = Image.fromarray(color_output_array)\n",
        "color_output_image.save(color_output_path)\n",
        "print(f\"成功生成颜色贴图，已保存至: {color_output_path}\")"
      ],
      "metadata": {
        "colab": {
          "base_uri": "https://localhost:8080/"
        },
        "id": "5zsUDOnMl9cc",
        "outputId": "0c892f2c-551c-4174-94f2-98d948fda254"
      },
      "execution_count": null,
      "outputs": [
        {
          "output_type": "stream",
          "name": "stdout",
          "text": [
            "成功生成金属度/光滑度贴图，已保存至: metallic_smoothness_map.png\n",
            "成功生成颜色贴图，已保存至: color_map.png\n"
          ]
        }
      ]
    }
  ]
}